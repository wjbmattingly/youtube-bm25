{
 "cells": [
  {
   "cell_type": "code",
   "execution_count": 1,
   "id": "818268f1-9bc9-4a90-816a-da73ad200b0c",
   "metadata": {},
   "outputs": [],
   "source": [
    "from rank_bm25 import BM25Okapi\n",
    "import string"
   ]
  },
  {
   "cell_type": "code",
   "execution_count": 2,
   "id": "b3572dca-6445-4587-b8e7-07eb63270421",
   "metadata": {},
   "outputs": [],
   "source": [
    "corpus = [\n",
    "    \"Hello there good man!\",\n",
    "    \"It is quite windy in London\",\n",
    "    \"How is the weather today?\"\n",
    "]\n"
   ]
  },
  {
   "cell_type": "code",
   "execution_count": 3,
   "id": "a56cd823-9922-4b7d-8227-90249ab614c3",
   "metadata": {},
   "outputs": [],
   "source": [
    "tokenized_corpus = [doc.split(\" \") for doc in corpus]"
   ]
  },
  {
   "cell_type": "code",
   "execution_count": 4,
   "id": "6d0f528e-017a-45a6-873b-ac2afe8185b1",
   "metadata": {},
   "outputs": [
    {
     "name": "stdout",
     "output_type": "stream",
     "text": [
      "Hello there good man!\n",
      "It is quite windy in London\n",
      "How is the weather today?\n"
     ]
    }
   ],
   "source": [
    "tokenized_corpus = []\n",
    "for doc in corpus:\n",
    "    print(doc)\n",
    "    doc_tokens = doc.split()\n",
    "    tokenized_corpus.append(doc_tokens)"
   ]
  },
  {
   "cell_type": "code",
   "execution_count": 5,
   "id": "77a4d058-5a9a-4e84-bd55-f85b6cd2eca3",
   "metadata": {},
   "outputs": [
    {
     "data": {
      "text/plain": [
       "[['Hello', 'there', 'good', 'man!'],\n",
       " ['It', 'is', 'quite', 'windy', 'in', 'London'],\n",
       " ['How', 'is', 'the', 'weather', 'today?']]"
      ]
     },
     "execution_count": 5,
     "metadata": {},
     "output_type": "execute_result"
    }
   ],
   "source": [
    "tokenized_corpus"
   ]
  },
  {
   "cell_type": "code",
   "execution_count": 6,
   "id": "b369f541-2d63-41bb-903d-ac31e90c7c96",
   "metadata": {},
   "outputs": [],
   "source": [
    "bm25 = BM25Okapi(tokenized_corpus)"
   ]
  },
  {
   "cell_type": "code",
   "execution_count": 7,
   "id": "bff6f458-ef46-4cb1-9c95-009045eda8fc",
   "metadata": {},
   "outputs": [],
   "source": [
    "query = \"london\"\n",
    "tokenized_query = query.split(\" \")"
   ]
  },
  {
   "cell_type": "code",
   "execution_count": 8,
   "id": "d5ef84fc-a494-4799-aaf1-4413be15f01a",
   "metadata": {},
   "outputs": [
    {
     "data": {
      "text/plain": [
       "['london']"
      ]
     },
     "execution_count": 8,
     "metadata": {},
     "output_type": "execute_result"
    }
   ],
   "source": [
    "tokenized_query"
   ]
  },
  {
   "cell_type": "code",
   "execution_count": 9,
   "id": "74e2251f-db63-4baf-b774-74d635e3fbd2",
   "metadata": {},
   "outputs": [
    {
     "data": {
      "text/plain": [
       "array([0., 0., 0.])"
      ]
     },
     "execution_count": 9,
     "metadata": {},
     "output_type": "execute_result"
    }
   ],
   "source": [
    "doc_scores = bm25.get_scores(tokenized_query)\n",
    "doc_scores"
   ]
  },
  {
   "cell_type": "code",
   "execution_count": 10,
   "id": "d9d80f93-c336-47be-8b72-6a68bc1362c9",
   "metadata": {},
   "outputs": [
    {
     "data": {
      "text/plain": [
       "['How is the weather today?']"
      ]
     },
     "execution_count": 10,
     "metadata": {},
     "output_type": "execute_result"
    }
   ],
   "source": [
    "bm25.get_top_n(tokenized_query, corpus, n=1)"
   ]
  },
  {
   "cell_type": "code",
   "execution_count": 11,
   "id": "4236cc95-7e93-42db-906c-1ff7ea38d2f6",
   "metadata": {},
   "outputs": [],
   "source": [
    "def remove_puncts(input_string, string):\n",
    "    return input_string.translate(str.maketrans('', '', string.punctuation)).lower()"
   ]
  },
  {
   "cell_type": "code",
   "execution_count": 12,
   "id": "891e0324-b9f2-4ed6-a2fc-1f8675e57792",
   "metadata": {},
   "outputs": [
    {
     "name": "stdout",
     "output_type": "stream",
     "text": [
      "Hello there good man!\n",
      "hello there good man\n",
      "It is quite windy in London\n",
      "it is quite windy in london\n",
      "How is the weather today?\n",
      "how is the weather today\n"
     ]
    }
   ],
   "source": [
    "cleaned_corpus = []\n",
    "for doc in corpus:\n",
    "    print(doc)\n",
    "    clean_doc = remove_puncts(doc, string)\n",
    "    print(clean_doc)\n",
    "    cleaned_corpus.append(clean_doc)"
   ]
  },
  {
   "cell_type": "code",
   "execution_count": 13,
   "id": "31b5b53b-3710-404e-8fad-c7aa4370543b",
   "metadata": {},
   "outputs": [
    {
     "data": {
      "text/plain": [
       "['hello there good man',\n",
       " 'it is quite windy in london',\n",
       " 'how is the weather today']"
      ]
     },
     "execution_count": 13,
     "metadata": {},
     "output_type": "execute_result"
    }
   ],
   "source": [
    "cleaned_corpus"
   ]
  },
  {
   "cell_type": "code",
   "execution_count": 14,
   "id": "0e4b7989-98b9-4909-a81d-581f93edb819",
   "metadata": {},
   "outputs": [
    {
     "name": "stdout",
     "output_type": "stream",
     "text": [
      "hello there good man\n",
      "it is quite windy in london\n",
      "how is the weather today\n"
     ]
    }
   ],
   "source": [
    "tokenized_clean_corpus = []\n",
    "for doc in cleaned_corpus:\n",
    "    print(doc)\n",
    "    doc = doc.split()\n",
    "    tokenized_clean_corpus.append(doc)"
   ]
  },
  {
   "cell_type": "code",
   "execution_count": 34,
   "id": "56c4cb18-3f5e-472a-9d3f-b482bfb15d13",
   "metadata": {},
   "outputs": [
    {
     "data": {
      "text/plain": [
       "[['hello', 'there', 'good', 'man'],\n",
       " ['it', 'is', 'quite', 'windy', 'in', 'london'],\n",
       " ['how', 'is', 'the', 'weather', 'today']]"
      ]
     },
     "execution_count": 34,
     "metadata": {},
     "output_type": "execute_result"
    }
   ],
   "source": [
    "tokenized_clean_corpus"
   ]
  },
  {
   "cell_type": "code",
   "execution_count": 35,
   "id": "66b44bf7-f109-43fb-8e5a-fc0b9f789dd2",
   "metadata": {},
   "outputs": [],
   "source": [
    "bm25 = BM25Okapi(tokenized_clean_corpus)"
   ]
  },
  {
   "cell_type": "code",
   "execution_count": 38,
   "id": "6257d3e4-bd8b-4823-8f46-dd31076a3962",
   "metadata": {},
   "outputs": [
    {
     "data": {
      "text/plain": [
       "['It is quite windy in London']"
      ]
     },
     "execution_count": 38,
     "metadata": {},
     "output_type": "execute_result"
    }
   ],
   "source": [
    "query = \"LONDON\"\n",
    "tokenized_query = remove_puncts(query, string).split(\" \")\n",
    "bm25.get_top_n(tokenized_query, corpus, n=1)"
   ]
  },
  {
   "cell_type": "code",
   "execution_count": 39,
   "id": "ecb3d0e7-ce37-4c6c-8899-bba1644b2dbf",
   "metadata": {},
   "outputs": [
    {
     "data": {
      "text/plain": [
       "['london']"
      ]
     },
     "execution_count": 39,
     "metadata": {},
     "output_type": "execute_result"
    }
   ],
   "source": [
    "tokenized_query"
   ]
  },
  {
   "cell_type": "code",
   "execution_count": 40,
   "id": "9f53947a-ace8-439d-baea-da7410f7bc75",
   "metadata": {},
   "outputs": [],
   "source": [
    "import pickle"
   ]
  },
  {
   "cell_type": "code",
   "execution_count": 41,
   "id": "fb728411-aac4-4bf4-81e4-4ee64b2337c7",
   "metadata": {},
   "outputs": [],
   "source": [
    "# save model\n",
    "file_name = \"models/sample.pkl\"\n",
    "with open(file_name, 'wb') as file:\n",
    "    pickle.dump(bm25, file)"
   ]
  },
  {
   "cell_type": "code",
   "execution_count": 42,
   "id": "b4f52148-ffdc-4349-988d-2435d4e626f2",
   "metadata": {},
   "outputs": [],
   "source": [
    "with open(file_name, 'rb') as file:\n",
    "    model = pickle.load(file)"
   ]
  },
  {
   "cell_type": "code",
   "execution_count": 43,
   "id": "4429b655-f27b-4617-a9aa-f79fbe6bccc6",
   "metadata": {},
   "outputs": [
    {
     "data": {
      "text/plain": [
       "['It is quite windy in London']"
      ]
     },
     "execution_count": 43,
     "metadata": {},
     "output_type": "execute_result"
    }
   ],
   "source": [
    "model.get_top_n(tokenized_query, corpus, n=1)"
   ]
  },
  {
   "cell_type": "code",
   "execution_count": 44,
   "id": "eef3b8d1-e864-429c-97d6-797a718a33a1",
   "metadata": {},
   "outputs": [],
   "source": [
    "import glob"
   ]
  },
  {
   "cell_type": "code",
   "execution_count": 45,
   "id": "af1dfc63-d6f4-432a-897f-0f7d8b63c62a",
   "metadata": {},
   "outputs": [
    {
     "data": {
      "text/plain": [
       "2"
      ]
     },
     "execution_count": 45,
     "metadata": {},
     "output_type": "execute_result"
    }
   ],
   "source": [
    "files = glob.glob(\"data/*.json\")\n",
    "len(files)"
   ]
  },
  {
   "cell_type": "code",
   "execution_count": 46,
   "id": "5d71f55e-5d73-4607-912c-c79e532969e2",
   "metadata": {},
   "outputs": [],
   "source": [
    "import json"
   ]
  },
  {
   "cell_type": "code",
   "execution_count": 50,
   "id": "c33d4912-d7b7-4f7c-abe4-d07390bb6e3b",
   "metadata": {},
   "outputs": [],
   "source": [
    "corpus = []\n",
    "for file in files:\n",
    "    with open(file, \"r\") as f:\n",
    "        data = json.load(f)\n",
    "    segments = data[\"segments\"]\n",
    "    # print(segments)\n",
    "    for segment in segments:\n",
    "        answer = segment[\"answer\"]\n",
    "        corpus.append(answer)"
   ]
  },
  {
   "cell_type": "code",
   "execution_count": 51,
   "id": "29106dc2-556e-4978-9da8-c136618318b8",
   "metadata": {},
   "outputs": [
    {
     "data": {
      "text/plain": [
       "216"
      ]
     },
     "execution_count": 51,
     "metadata": {},
     "output_type": "execute_result"
    }
   ],
   "source": [
    "len(corpus)"
   ]
  },
  {
   "cell_type": "code",
   "execution_count": 52,
   "id": "bf61ed5f-fc3b-4d5e-97ea-b1ff95743095",
   "metadata": {},
   "outputs": [],
   "source": [
    "tokenized_corpus = []\n",
    "for doc in corpus:\n",
    "    clean_doc = remove_puncts(doc, string).split()\n",
    "    tokenized_corpus.append(clean_doc)"
   ]
  },
  {
   "cell_type": "code",
   "execution_count": 54,
   "id": "5f25e2fe-b164-4df7-aee2-66e2e4fe35ff",
   "metadata": {},
   "outputs": [],
   "source": [
    "# tokenized_corpus[:2]"
   ]
  },
  {
   "cell_type": "code",
   "execution_count": 55,
   "id": "34d8e167-9a9a-4154-be1e-69713a4355d5",
   "metadata": {},
   "outputs": [],
   "source": [
    "bm25 = BM25Okapi(tokenized_corpus)"
   ]
  },
  {
   "cell_type": "code",
   "execution_count": 59,
   "id": "d6c87a2d-3986-4498-86c9-e19584a3b262",
   "metadata": {},
   "outputs": [
    {
     "data": {
      "text/plain": [
       "[\"I already told you it was run like a government. This guy, I didn't see him very often I want you to know, but whenever I seen him, he was very lenient man. He if a kid was sick he would go by and pat him. He was very good, because I remember he even used to take out the excrement in the morning. He got up very early. I don't remember him very well because I was a stranger down there. He figured that probably that I am not his in Polish they call it . He did not raise me, you understand? He more or less, he liked more the kids which he raised. Don't forget that he was the kind of a man he read a lot of books which as I a child I was reading. Only of us children, all kinds of mysteries about how children behave and and we used to have theaters there too. We used to have what do you call , all kind of marionettes. In the beginning of the war you could do almost a lot of things, but the Germans were not organized yet. They couldn't cope with a half a million Jews, and the Jews were not, at that time, segregated. Tape #2\"]"
      ]
     },
     "execution_count": 59,
     "metadata": {},
     "output_type": "execute_result"
    }
   ],
   "source": [
    "query = \"lenient man\"\n",
    "tokenized_query = remove_puncts(query, string).split(\" \")\n",
    "bm25.get_top_n(tokenized_query, corpus, n=1)"
   ]
  },
  {
   "cell_type": "code",
   "execution_count": null,
   "id": "08c973fa-6845-4640-bdae-9594fe333688",
   "metadata": {},
   "outputs": [],
   "source": []
  }
 ],
 "metadata": {
  "kernelspec": {
   "display_name": "Python 3 (ipykernel)",
   "language": "python",
   "name": "python3"
  },
  "language_info": {
   "codemirror_mode": {
    "name": "ipython",
    "version": 3
   },
   "file_extension": ".py",
   "mimetype": "text/x-python",
   "name": "python",
   "nbconvert_exporter": "python",
   "pygments_lexer": "ipython3",
   "version": "3.8.5"
  }
 },
 "nbformat": 4,
 "nbformat_minor": 5
}
