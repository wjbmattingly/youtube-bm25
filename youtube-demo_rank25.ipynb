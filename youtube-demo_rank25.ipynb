{
 "cells": [
  {
   "cell_type": "code",
   "execution_count": 1,
   "id": "106315a8-0871-4a2c-b6d3-739219843418",
   "metadata": {},
   "outputs": [],
   "source": [
    "from rank_bm25 import BM25Okapi\n",
    "import string"
   ]
  },
  {
   "cell_type": "code",
   "execution_count": 2,
   "id": "a6731076-bde4-443d-8df9-b6317ccad7e6",
   "metadata": {},
   "outputs": [],
   "source": [
    "def remove_puncts(input_string, string):\n",
    "    return input_string.translate(str.maketrans('', '', string.punctuation)).lower()"
   ]
  },
  {
   "cell_type": "code",
   "execution_count": 3,
   "id": "4bc0b137-fccb-4b6e-b33c-781c5652ad2b",
   "metadata": {},
   "outputs": [],
   "source": [
    "original_corpus = [\n",
    "    \"Hello there good man!\",\n",
    "    \"It is quite windy in London\",\n",
    "    \"How is the weather today?\"\n",
    "]"
   ]
  },
  {
   "cell_type": "code",
   "execution_count": 5,
   "id": "384a1ef8-b687-47c7-9b64-cb7e4d7a1331",
   "metadata": {},
   "outputs": [
    {
     "data": {
      "text/plain": [
       "['hello there good man',\n",
       " 'it is quite windy in london',\n",
       " 'how is the weather today']"
      ]
     },
     "execution_count": 5,
     "metadata": {},
     "output_type": "execute_result"
    }
   ],
   "source": [
    "cleaned_corpus = [remove_puncts(doc, string) for doc in original_corpus]\n",
    "cleaned_corpus"
   ]
  },
  {
   "cell_type": "code",
   "execution_count": 6,
   "id": "56165f06-f651-4c4c-ad90-9e39f744abf2",
   "metadata": {},
   "outputs": [],
   "source": [
    "tokenized_corpus = [doc.split(\" \") for doc in cleaned_corpus]"
   ]
  },
  {
   "cell_type": "code",
   "execution_count": 9,
   "id": "93d3dc5e-66b5-450c-8b25-55ed29842808",
   "metadata": {},
   "outputs": [
    {
     "data": {
      "text/plain": [
       "[['hello', 'there', 'good', 'man'],\n",
       " ['it', 'is', 'quite', 'windy', 'in', 'london'],\n",
       " ['how', 'is', 'the', 'weather', 'today']]"
      ]
     },
     "execution_count": 9,
     "metadata": {},
     "output_type": "execute_result"
    }
   ],
   "source": [
    "tokenized_corpus"
   ]
  },
  {
   "cell_type": "code",
   "execution_count": 7,
   "id": "4e059ed6-ca28-4f7e-b913-91a24a394635",
   "metadata": {},
   "outputs": [],
   "source": [
    "bm25 = BM25Okapi(tokenized_corpus)"
   ]
  },
  {
   "cell_type": "code",
   "execution_count": 8,
   "id": "ed838e11-6cd2-4063-a4c6-bd9b603d58b7",
   "metadata": {},
   "outputs": [
    {
     "data": {
      "text/plain": [
       "['It is quite windy in London']"
      ]
     },
     "execution_count": 8,
     "metadata": {},
     "output_type": "execute_result"
    }
   ],
   "source": [
    "query = \"london\"\n",
    "tokenized_query = query.split(\" \")\n",
    "doc_scores = bm25.get_scores(tokenized_query)\n",
    "bm25.get_top_n(tokenized_query, original_corpus, n=1)"
   ]
  },
  {
   "cell_type": "code",
   "execution_count": null,
   "id": "7d70867f-894e-4656-92bc-99ae4f181b55",
   "metadata": {},
   "outputs": [],
   "source": []
  },
  {
   "cell_type": "code",
   "execution_count": null,
   "id": "9fee052c-587f-4717-a55b-e0ece7dde408",
   "metadata": {},
   "outputs": [],
   "source": []
  }
 ],
 "metadata": {
  "kernelspec": {
   "display_name": "Python 3 (ipykernel)",
   "language": "python",
   "name": "python3"
  },
  "language_info": {
   "codemirror_mode": {
    "name": "ipython",
    "version": 3
   },
   "file_extension": ".py",
   "mimetype": "text/x-python",
   "name": "python",
   "nbconvert_exporter": "python",
   "pygments_lexer": "ipython3",
   "version": "3.8.5"
  }
 },
 "nbformat": 4,
 "nbformat_minor": 5
}
